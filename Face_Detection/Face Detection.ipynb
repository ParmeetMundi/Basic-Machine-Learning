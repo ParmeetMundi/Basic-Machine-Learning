{
 "cells": [
  {
   "cell_type": "code",
   "execution_count": 29,
   "id": "354d2736",
   "metadata": {},
   "outputs": [],
   "source": [
    "import warnings\n",
    "warnings.filterwarnings('ignore')\n",
    "import cv2\n",
    "import numpy as np\n",
    "import pandas as pd\n",
    "import matplotlib.pyplot as plt\n"
   ]
  },
  {
   "cell_type": "code",
   "execution_count": 64,
   "id": "e0dc916f",
   "metadata": {},
   "outputs": [],
   "source": [
    "\n",
    "face_cascade = cv2.CascadeClassifier(r\"C:\\Users\\MUNDI\\anaconda3\\envs\\tf_gpu\\Lib\\site-packages\\cv2\\data\\haarcascade_frontalcatface.xml\")\n",
    "#face_cascade = cv2.CascadeClassifier(r\"C:\\Users\\MUNDI\\anaconda3\\envs\\tf_gpu\\Lib\\site-packages\\cv2\\data\\lbpcascade_frontalcatface.xml\")"
   ]
  },
  {
   "cell_type": "markdown",
   "id": "45ce817a",
   "metadata": {},
   "source": [
    "# Face detection from image"
   ]
  },
  {
   "cell_type": "code",
   "execution_count": 66,
   "id": "66b6a2fc",
   "metadata": {},
   "outputs": [],
   "source": [
    "img_path=r\"C:\\Users\\MUNDI\\Downloads\\face.jpg\"\n",
    "\n",
    "\n",
    "img=cv2.imread(img_path)\n",
    "\n",
    "gray = cv2.cvtColor(img, cv2.COLOR_BGR2GRAY)\n",
    "#plt.imshow(gray)\n",
    "faces = face_cascade.detectMultiScale( gray,scaleFactor=1.1, minNeighbors=1)\n",
    "#print(faces)\n",
    "for (x, y, w, h) in faces:\n",
    "    cv2.rectangle(img, (x, y), (x+w, y+h), (255, 0, 0), 2)\n",
    "    \n",
    "cv2.imshow('img', img)\n",
    "\n",
    "\n",
    "cv2.waitKey(5000)\n",
    "cv2.destroyWindow(\"img\")\n"
   ]
  },
  {
   "cell_type": "markdown",
   "id": "7245f410",
   "metadata": {},
   "source": [
    "# Face Detection from Video"
   ]
  },
  {
   "cell_type": "code",
   "execution_count": 68,
   "id": "e71d4d75",
   "metadata": {},
   "outputs": [],
   "source": [
    "cap = cv2.VideoCapture(0)\n",
    "\n",
    "while True:\n",
    "    \n",
    "    status, img = cap.read()\n",
    "    \n",
    "    if status==False:\n",
    "        print('error reading frame from video')\n",
    "        break\n",
    "        \n",
    "    gray = cv2.cvtColor(img, cv2.COLOR_BGR2GRAY)\n",
    "    \n",
    "    faces = face_cascade.detectMultiScale(gray, 1.1, 1)\n",
    "    \n",
    "    for (x, y, w, h) in faces:\n",
    "        cv2.rectangle(img, (x, y), (x+w, y+h), (255, 0, 0), 2)\n",
    "    cv2.imshow('img', img)\n",
    "    \n",
    "    # Stop if escape key is pressed\n",
    "    k = cv2.waitKey(1) & 0xff\n",
    "    if k==27:\n",
    "        break\n",
    "\n",
    "        \n",
    "# Release the VideoCapture object\n",
    "cap.release()\n",
    "cv2.destroyWindow(\"img\")"
   ]
  },
  {
   "cell_type": "code",
   "execution_count": 69,
   "id": "d9269218",
   "metadata": {},
   "outputs": [],
   "source": [
    "\n",
    "eye_cascade = cv2.CascadeClassifier(r\"C:\\Users\\MUNDI\\anaconda3\\envs\\tf_gpu\\Lib\\site-packages\\cv2\\data/haarcascade_eye.xml\") "
   ]
  },
  {
   "cell_type": "markdown",
   "id": "551caa2d",
   "metadata": {},
   "source": [
    "# Face and Eyes detection"
   ]
  },
  {
   "cell_type": "code",
   "execution_count": 70,
   "id": "d868c6b9",
   "metadata": {},
   "outputs": [],
   "source": [
    "cap = cv2.VideoCapture(0)\n",
    "\n",
    "while True:\n",
    "    \n",
    "    status, img = cap.read()\n",
    "    \n",
    "    if status==False:\n",
    "        print('error reading frame from video')\n",
    "        break\n",
    "        \n",
    "    gray = cv2.cvtColor(img, cv2.COLOR_BGR2GRAY)\n",
    "    \n",
    "    faces = face_cascade.detectMultiScale(gray, 1.1, 1)\n",
    "    eyes=eye_cascade.detectMultiScale(gray, 1.1, 1)\n",
    "    \n",
    "    for (x, y, w, h) in faces:\n",
    "        cv2.rectangle(img, (x, y), (x+w, y+h), (255, 0, 0), 2)\n",
    "    for (x, y, w, h) in eyes:\n",
    "        cv2.rectangle(img, (x, y), (x+w, y+h), (255, 0, 0), 2)\n",
    "    cv2.imshow('img', img)\n",
    "    \n",
    "    # Stop if escape key is pressed\n",
    "    k = cv2.waitKey(1) & 0xff\n",
    "    if k==27:\n",
    "        break\n",
    "\n",
    "        \n",
    "# Release the VideoCapture object\n",
    "cap.release()\n",
    "cv2.destroyWindow(\"img\")"
   ]
  }
 ],
 "metadata": {
  "kernelspec": {
   "display_name": "Python 3 (ipykernel)",
   "language": "python",
   "name": "python3"
  },
  "language_info": {
   "codemirror_mode": {
    "name": "ipython",
    "version": 3
   },
   "file_extension": ".py",
   "mimetype": "text/x-python",
   "name": "python",
   "nbconvert_exporter": "python",
   "pygments_lexer": "ipython3",
   "version": "3.8.0"
  }
 },
 "nbformat": 4,
 "nbformat_minor": 5
}
